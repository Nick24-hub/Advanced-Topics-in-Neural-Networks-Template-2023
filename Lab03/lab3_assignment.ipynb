{
 "cells": [
  {
   "cell_type": "code",
   "execution_count": 1,
   "id": "01e132cd",
   "metadata": {},
   "outputs": [],
   "source": [
    "from typing import Tuple\n",
    "import numpy as np\n",
    "import torch\n",
    "from torch import Tensor\n",
    "from torchvision.datasets import MNIST\n",
    "from tqdm import tqdm\n"
   ]
  },
  {
   "cell_type": "code",
   "execution_count": 2,
   "id": "e97b40a4",
   "metadata": {},
   "outputs": [],
   "source": [
    "def get_default_device():\n",
    "    if torch.cuda.is_available():\n",
    "        return torch.device('cuda')\n",
    "        # For multi-gpu workstations, PyTorch will use the first available GPU (cuda:0), unless specified otherwise\n",
    "        # (cuda:1).\n",
    "    if torch.backends.mps.is_available():\n",
    "        return torch.device('mos')\n",
    "    return torch.device('cpu')"
   ]
  },
  {
   "cell_type": "code",
   "execution_count": 3,
   "id": "0feef8e1",
   "metadata": {},
   "outputs": [],
   "source": [
    "def forward(x: Tensor, w: Tensor, b: Tensor) -> Tensor:\n",
    "    return x @ w + b"
   ]
  },
  {
   "cell_type": "code",
   "execution_count": 4,
   "id": "f8d8c545",
   "metadata": {},
   "outputs": [],
   "source": [
    "def sigmoid(z: Tensor):\n",
    "    return z.sigmoid()"
   ]
  },
  {
   "cell_type": "code",
   "execution_count": 5,
   "id": "7c79eabe",
   "metadata": {},
   "outputs": [],
   "source": [
    "def softmax(z: Tensor) -> Tensor:\n",
    "    return z.softmax(dim=1)"
   ]
  },
  {
   "cell_type": "code",
   "execution_count": 6,
   "id": "436a965a",
   "metadata": {},
   "outputs": [],
   "source": [
    "def backward(x: Tensor, y: Tensor, y1: Tensor, y2: Tensor, w2: Tensor) -> Tuple[Tensor, Tensor, Tensor, Tensor]:\n",
    "    error_layer2 = y2 - y # (batch_size, 10)\n",
    "    delta_w2 = y1.T @ error_layer2 # (100, batch_size) @ (batch_size, 10) = (100, 10)\n",
    "    delta_b2 = error_layer2.mean(dim=0) # (batch_size, 10)\n",
    "    error_layer1 = y1 * (1 - y1) * (w2 @ error_layer2.T).T # (batch_size, 100) * (batch_size, 100) * ((100, 10) @ (10, batch_size)).T = (batch_size, 100)\n",
    "    delta_w1 = x.T @ error_layer1 # (784, batch_size) @ (batch_size, 100) = (784, 100)\n",
    "    delta_b1 = error_layer1.mean(dim=0) # (batch_size, 100)\n",
    "    \n",
    "    return delta_w1, delta_b1, delta_w2, delta_b2"
   ]
  },
  {
   "cell_type": "code",
   "execution_count": 7,
   "id": "8d797e26",
   "metadata": {},
   "outputs": [],
   "source": [
    "def collate(x) -> Tensor:\n",
    "    if isinstance(x, (tuple, list)):\n",
    "        if isinstance(x[0], Tensor):\n",
    "            return torch.stack(x)\n",
    "        return torch.tensor(x)\n",
    "    raise \"Not supported yet\"\n",
    "    # see torch\\utils\\data\\_utils\\collate.py"
   ]
  },
  {
   "cell_type": "code",
   "execution_count": 8,
   "id": "d6be78fe",
   "metadata": {},
   "outputs": [],
   "source": [
    "def to_one_hot(x: Tensor) -> Tensor:\n",
    "    return torch.eye(x.max() + 1)[x]"
   ]
  },
  {
   "cell_type": "code",
   "execution_count": 9,
   "id": "7b89340b",
   "metadata": {},
   "outputs": [],
   "source": [
    "def train_batch(x: Tensor, y: Tensor, w1: Tensor, b1: Tensor, w2: Tensor, b2: Tensor, lr: float) -> Tuple[Tensor, Tensor, Tensor, Tensor, float]:\n",
    "    y1 = sigmoid(forward(x, w1, b1))\n",
    "    y2 = softmax(forward(y1, w2, b2))\n",
    "    loss = torch.nn.functional.cross_entropy(y2, y)\n",
    "    delta_w1, delta_b1, delta_w2, delta_b2 = backward(x, y, y1, y2, w2)\n",
    "    w1 -= lr * delta_w1\n",
    "    b1 -= lr * delta_b1\n",
    "    w2 -= lr * delta_w2\n",
    "    b2 -= lr * delta_b2\n",
    "    return w1, b1, w2, b2, loss"
   ]
  },
  {
   "cell_type": "code",
   "execution_count": 10,
   "id": "bedea8b6",
   "metadata": {},
   "outputs": [],
   "source": [
    "def train_epoch(data: Tensor, labels: Tensor, w1: Tensor, b1: Tensor, w2: Tensor, b2: Tensor, lr: float, batch_size: int) \\\n",
    "        -> Tuple[Tensor, Tensor, Tensor, Tensor, float]:\n",
    "    non_blocking = w1.device.type == 'cuda'\n",
    "    epoch_loss = 0\n",
    "    for i in range(0, data.shape[0], batch_size):\n",
    "        x = data[i: i + batch_size].to(w1.device, non_blocking=non_blocking)\n",
    "        y = labels[i: i + batch_size].to(w1.device, non_blocking=non_blocking)\n",
    "        w1, b1, w2, b2, batch_loss = train_batch(x, y, w1, b1, w2, b2, lr)\n",
    "        epoch_loss += batch_loss\n",
    "    return w1, b1, w2, b2, epoch_loss / batch_size"
   ]
  },
  {
   "cell_type": "code",
   "execution_count": 11,
   "id": "732bf8cf",
   "metadata": {},
   "outputs": [],
   "source": [
    "def load_mnist(path: str = \"./data\", train: bool = True, pin_memory: bool = True):\n",
    "    mnist_raw = MNIST(path, download=True, train=train)\n",
    "    mnist_data = []\n",
    "    mnist_labels = []\n",
    "    for image, label in mnist_raw:\n",
    "        tensor = torch.from_numpy(np.array(image))\n",
    "        mnist_data.append(tensor)\n",
    "        mnist_labels.append(label)\n",
    "\n",
    "    mnist_data = collate(mnist_data).float()  # shape 60000, 28, 28\n",
    "    mnist_data = mnist_data.flatten(start_dim=1)  # shape 60000, 784\n",
    "    mnist_data /= mnist_data.max()  # min max normalize\n",
    "    mnist_labels = collate(mnist_labels)  # shape 60000\n",
    "    if train:\n",
    "        mnist_labels = to_one_hot(mnist_labels)  # shape 60000, 10\n",
    "    if pin_memory:\n",
    "        return mnist_data.pin_memory(), mnist_labels.pin_memory()\n",
    "    return mnist_data, mnist_labels"
   ]
  },
  {
   "cell_type": "code",
   "execution_count": 12,
   "id": "5aa8d00a",
   "metadata": {},
   "outputs": [],
   "source": [
    "def evaluate(data: Tensor, labels: Tensor, w1: Tensor, b1: Tensor, w2: Tensor, b2: Tensor, batch_size: int) -> float:\n",
    "    # Labels are not one hot encoded, because we do not need them as one hot.\n",
    "    total_correct_predictions = 0\n",
    "    total_len = data.shape[0]\n",
    "    non_blocking = w1.device.type == 'cuda'\n",
    "    for i in range(0, total_len, batch_size):\n",
    "        x = data[i: i + batch_size].to(w1.device, non_blocking=non_blocking)\n",
    "        y = labels[i: i + batch_size].to(w1.device, non_blocking=non_blocking)\n",
    "        predicted_distribution = softmax(forward(sigmoid(forward(x, w1, b1)), w2, b2))\n",
    "        # check torch.max documentation\n",
    "        predicted_max_value, predicted_max_value_indices = torch.max(predicted_distribution, dim=1)\n",
    "        # we check if the indices of the max value per line correspond to the correct label. We get a boolean mask\n",
    "        # with True where the indices are the same, false otherwise\n",
    "        equality_mask = predicted_max_value_indices == y\n",
    "        # We sum the boolean mask, and get the number of True values in the mask. We use .item() to get the value out of\n",
    "        # the tensor\n",
    "        correct_predictions = equality_mask.sum().item()\n",
    "        # correct_predictions = (torch.max(predicted_distribution, dim=1)[1] == y).sum().item()\n",
    "        total_correct_predictions += correct_predictions\n",
    "\n",
    "    return total_correct_predictions / total_len"
   ]
  },
  {
   "cell_type": "code",
   "execution_count": 13,
   "id": "5e90ba81",
   "metadata": {},
   "outputs": [],
   "source": [
    "def train(epochs: int = 1000, device: torch.device = get_default_device()):\n",
    "    print(f\"Using device {device}\")\n",
    "    pin_memory = device.type == 'cuda'  # Check the provided references.\n",
    "    w1 = torch.normal(0, 1 / np.sqrt(784) , (784, 100), device=device)\n",
    "    b1 = torch.zeros((1, 100), device=device)\n",
    "    w2 = torch.normal(0, 1 / np.sqrt(784), (100, 10), device=device)\n",
    "    b2 = torch.zeros((1, 10), device=device)\n",
    "    lr = 0.001\n",
    "    batch_size = 500\n",
    "    eval_batch_size = 500\n",
    "    data, labels = load_mnist(train=True, pin_memory=pin_memory)\n",
    "    data_test, labels_test = load_mnist(train=False, pin_memory=pin_memory)\n",
    "    epochs = tqdm(range(epochs))\n",
    "    total_loss = 0\n",
    "    for epoch in epochs:\n",
    "        epoch_loss = 0\n",
    "        w1, b1, w2, b2, epoch_loss = train_epoch(data, labels, w1, b1, w2, b2, lr, batch_size)\n",
    "        total_loss += epoch_loss\n",
    "        accuracy = evaluate(data_test, labels_test, w1, b1, w2, b2, eval_batch_size)\n",
    "        epochs.set_postfix_str(f\"accuracy = {accuracy}, epoch_loss = {epoch_loss}, total_loss = {total_loss}\")\n",
    "        if epoch % 300 == 0:\n",
    "            lr *= 0.95"
   ]
  },
  {
   "cell_type": "code",
   "execution_count": 14,
   "id": "ea79b27d",
   "metadata": {},
   "outputs": [
    {
     "name": "stdout",
     "output_type": "stream",
     "text": [
      "Using device cuda\n"
     ]
    },
    {
     "name": "stderr",
     "output_type": "stream",
     "text": [
      "100%|█| 500/500 [00:37<00:00, 13.41it/s, accuracy = 0.9801, epoch_loss = 0.35152125358581543, total_loss = 177.83457946\n"
     ]
    },
    {
     "name": "stdout",
     "output_type": "stream",
     "text": [
      "Using device cpu\n"
     ]
    },
    {
     "name": "stderr",
     "output_type": "stream",
     "text": [
      "100%|█| 500/500 [01:30<00:00,  5.50it/s, accuracy = 0.9795, epoch_loss = 0.3515196740627289, total_loss = 177.881317138\n"
     ]
    }
   ],
   "source": [
    "train(500)\n",
    "train(500, torch.device('cpu'))"
   ]
  }
 ],
 "metadata": {
  "kernelspec": {
   "display_name": "Python 3 (ipykernel)",
   "language": "python",
   "name": "python3"
  },
  "language_info": {
   "codemirror_mode": {
    "name": "ipython",
    "version": 3
   },
   "file_extension": ".py",
   "mimetype": "text/x-python",
   "name": "python",
   "nbconvert_exporter": "python",
   "pygments_lexer": "ipython3",
   "version": "3.9.15"
  }
 },
 "nbformat": 4,
 "nbformat_minor": 5
}
