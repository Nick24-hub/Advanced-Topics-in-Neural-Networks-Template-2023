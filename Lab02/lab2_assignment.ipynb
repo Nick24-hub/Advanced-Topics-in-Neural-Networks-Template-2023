{
 "cells": [
  {
   "cell_type": "code",
   "execution_count": 1,
   "id": "f5d10add",
   "metadata": {},
   "outputs": [],
   "source": [
    "import random\n",
    "import torch\n",
    "from torch import Tensor\n",
    "from torchvision import datasets, transforms\n",
    "from torch.utils.data import DataLoader"
   ]
  },
  {
   "cell_type": "markdown",
   "id": "9e27352e",
   "metadata": {},
   "source": [
    "## train_perceptron function"
   ]
  },
  {
   "cell_type": "code",
   "execution_count": 2,
   "id": "e3bb08da",
   "metadata": {},
   "outputs": [],
   "source": [
    "def sigmoid(z):\n",
    "    return 1 / (1 + torch.exp(-z))\n",
    "\n",
    "def train_perceptron(X: Tensor, W: Tensor, b: Tensor, y_true: Tensor, mu: float):\n",
    "    # Return the updated W and b\n",
    "    # Your implementation here\n",
    "    delta = torch.zeros(W.shape).to('cuda')\n",
    "    beta = torch.zeros(b.shape).to('cuda')\n",
    "    batch_size = len(X)\n",
    "    for index in range(0, batch_size):\n",
    "        z = X[index] @ W + b\n",
    "        y = sigmoid(z)\n",
    "        print(f\"Prediction = {y}\")\n",
    "        error = y_true[index] - y\n",
    "        delta += X[index].unsqueeze(-1) @ error.unsqueeze(0)\n",
    "        beta += error\n",
    "    W += delta * mu\n",
    "    b += beta * mu\n",
    "    return W, b"
   ]
  },
  {
   "cell_type": "markdown",
   "id": "fde0518b",
   "metadata": {},
   "source": [
    "## Initialize tensors"
   ]
  },
  {
   "cell_type": "code",
   "execution_count": 3,
   "id": "20269c46",
   "metadata": {},
   "outputs": [
    {
     "name": "stdout",
     "output_type": "stream",
     "text": [
      "torch.Size([3, 784]) torch.Size([784, 10]) torch.Size([10]) torch.Size([3, 10])\n"
     ]
    }
   ],
   "source": [
    "m = 3\n",
    "X = torch.rand((m, 784)).to('cuda')\n",
    "W = torch.rand((784, 10)).to('cuda')\n",
    "b = torch.rand((10)).to('cuda')\n",
    "y_true = torch.zeros((m, 10)).to('cuda')\n",
    "for index in range(0,m):\n",
    "    y_true[index][random.randint(0, 9)] = 1\n",
    "mu = 0.1\n",
    "print(X.shape, W.shape, b.shape, y_true.shape)"
   ]
  },
  {
   "cell_type": "code",
   "execution_count": 4,
   "id": "4b995c96",
   "metadata": {},
   "outputs": [
    {
     "name": "stdout",
     "output_type": "stream",
     "text": [
      "y_true: tensor([[0., 0., 1., 0., 0., 0., 0., 0., 0., 0.],\n",
      "        [0., 0., 0., 0., 0., 0., 0., 1., 0., 0.],\n",
      "        [0., 0., 0., 0., 0., 1., 0., 0., 0., 0.]], device='cuda:0')\n"
     ]
    }
   ],
   "source": [
    "print(f\"y_true: {y_true}\")"
   ]
  },
  {
   "cell_type": "markdown",
   "id": "9b9f027e",
   "metadata": {},
   "source": [
    "## Start training"
   ]
  },
  {
   "cell_type": "code",
   "execution_count": 5,
   "id": "49d187f2",
   "metadata": {},
   "outputs": [
    {
     "name": "stdout",
     "output_type": "stream",
     "text": [
      "Epoch: 1\n",
      "Prediction = tensor([1., 1., 1., 1., 1., 1., 1., 1., 1., 1.], device='cuda:0')\n",
      "Prediction = tensor([1., 1., 1., 1., 1., 1., 1., 1., 1., 1.], device='cuda:0')\n",
      "Prediction = tensor([1., 1., 1., 1., 1., 1., 1., 1., 1., 1.], device='cuda:0')\n",
      "Epoch: 2\n",
      "Prediction = tensor([1., 1., 1., 1., 1., 1., 1., 1., 1., 1.], device='cuda:0')\n",
      "Prediction = tensor([1., 1., 1., 1., 1., 1., 1., 1., 1., 1.], device='cuda:0')\n",
      "Prediction = tensor([1., 1., 1., 1., 1., 1., 1., 1., 1., 1.], device='cuda:0')\n",
      "Epoch: 3\n",
      "Prediction = tensor([1., 1., 1., 1., 1., 1., 1., 1., 1., 1.], device='cuda:0')\n",
      "Prediction = tensor([1., 1., 1., 1., 1., 1., 1., 1., 1., 1.], device='cuda:0')\n",
      "Prediction = tensor([1., 1., 1., 1., 1., 1., 1., 1., 1., 1.], device='cuda:0')\n",
      "Epoch: 4\n",
      "Prediction = tensor([0.9980, 0.9988, 1.0000, 0.9504, 0.7473, 1.0000, 0.1276, 1.0000, 0.0587,\n",
      "        0.9693], device='cuda:0')\n",
      "Prediction = tensor([0.9951, 0.9961, 1.0000, 0.1763, 0.9947, 1.0000, 0.9753, 1.0000, 0.7341,\n",
      "        0.9999], device='cuda:0')\n",
      "Prediction = tensor([0.9958, 0.9988, 1.0000, 0.9365, 0.9899, 1.0000, 0.5557, 1.0000, 0.1870,\n",
      "        0.9183], device='cuda:0')\n",
      "Epoch: 5\n",
      "Prediction = tensor([5.1207e-26, 7.7078e-26, 1.0000e+00, 2.0361e-19, 2.0419e-25, 9.9998e-01,\n",
      "        5.2008e-16, 9.9999e-01, 1.9717e-10, 2.7773e-26], device='cuda:0')\n",
      "Prediction = tensor([1.9036e-27, 2.1620e-27, 1.0000e+00, 8.0452e-20, 2.7783e-25, 9.9999e-01,\n",
      "        1.2627e-16, 1.0000e+00, 4.2117e-11, 7.6222e-25], device='cuda:0')\n",
      "Prediction = tensor([6.4895e-27, 2.0585e-26, 9.9996e-01, 7.7160e-20, 4.2605e-25, 1.0000e+00,\n",
      "        1.2896e-16, 9.9998e-01, 1.9060e-10, 3.7730e-27], device='cuda:0')\n",
      "Epoch: 6\n",
      "Prediction = tensor([5.1207e-26, 7.7078e-26, 2.3681e-01, 2.0361e-19, 2.0419e-25, 1.2170e-15,\n",
      "        5.2008e-16, 5.5479e-15, 1.9717e-10, 2.7773e-26], device='cuda:0')\n",
      "Prediction = tensor([1.9036e-27, 2.1620e-27, 1.3861e-14, 8.0452e-20, 2.7783e-25, 8.7932e-16,\n",
      "        1.2627e-16, 6.9482e-01, 4.2117e-11, 7.6222e-25], device='cuda:0')\n",
      "Prediction = tensor([6.4895e-27, 2.0585e-26, 1.4878e-16, 7.7160e-20, 4.2605e-25, 2.2437e-03,\n",
      "        1.2896e-16, 6.3184e-16, 1.9060e-10, 3.7730e-27], device='cuda:0')\n",
      "Epoch: 7\n",
      "Prediction = tensor([5.1207e-26, 7.7078e-26, 1.0000e+00, 2.0361e-19, 2.0419e-25, 3.5469e-07,\n",
      "        5.2008e-16, 2.2291e-12, 1.9717e-10, 2.7773e-26], device='cuda:0')\n",
      "Prediction = tensor([1.9036e-27, 2.1620e-27, 4.5056e-08, 8.0452e-20, 2.7783e-25, 5.1922e-07,\n",
      "        1.2627e-16, 9.9989e-01, 4.2117e-11, 7.6222e-25], device='cuda:0')\n",
      "Prediction = tensor([6.4895e-27, 2.0585e-26, 4.4373e-10, 7.7160e-20, 4.2605e-25, 1.0000e+00,\n",
      "        1.2896e-16, 3.0440e-13, 1.9060e-10, 3.7730e-27], device='cuda:0')\n",
      "Epoch: 8\n",
      "Prediction = tensor([5.1207e-26, 7.7078e-26, 1.0000e+00, 2.0361e-19, 2.0419e-25, 3.5468e-07,\n",
      "        5.2008e-16, 2.2339e-12, 1.9717e-10, 2.7773e-26], device='cuda:0')\n",
      "Prediction = tensor([1.9036e-27, 2.1620e-27, 4.5056e-08, 8.0452e-20, 2.7783e-25, 5.1921e-07,\n",
      "        1.2627e-16, 9.9989e-01, 4.2117e-11, 7.6222e-25], device='cuda:0')\n",
      "Prediction = tensor([6.4895e-27, 2.0585e-26, 4.4373e-10, 7.7160e-20, 4.2605e-25, 1.0000e+00,\n",
      "        1.2896e-16, 3.0507e-13, 1.9060e-10, 3.7730e-27], device='cuda:0')\n",
      "Epoch: 9\n",
      "Prediction = tensor([5.1207e-26, 7.7078e-26, 1.0000e+00, 2.0361e-19, 2.0419e-25, 3.5468e-07,\n",
      "        5.2008e-16, 2.2386e-12, 1.9717e-10, 2.7773e-26], device='cuda:0')\n",
      "Prediction = tensor([1.9036e-27, 2.1620e-27, 4.5056e-08, 8.0452e-20, 2.7783e-25, 5.1920e-07,\n",
      "        1.2627e-16, 9.9989e-01, 4.2117e-11, 7.6222e-25], device='cuda:0')\n",
      "Prediction = tensor([6.4895e-27, 2.0585e-26, 4.4373e-10, 7.7160e-20, 4.2605e-25, 1.0000e+00,\n",
      "        1.2896e-16, 3.0574e-13, 1.9060e-10, 3.7730e-27], device='cuda:0')\n",
      "Epoch: 10\n",
      "Prediction = tensor([5.1207e-26, 7.7078e-26, 1.0000e+00, 2.0361e-19, 2.0419e-25, 3.5467e-07,\n",
      "        5.2008e-16, 2.2434e-12, 1.9717e-10, 2.7773e-26], device='cuda:0')\n",
      "Prediction = tensor([1.9036e-27, 2.1620e-27, 4.5056e-08, 8.0452e-20, 2.7783e-25, 5.1919e-07,\n",
      "        1.2627e-16, 9.9989e-01, 4.2117e-11, 7.6222e-25], device='cuda:0')\n",
      "Prediction = tensor([6.4895e-27, 2.0585e-26, 4.4373e-10, 7.7160e-20, 4.2605e-25, 1.0000e+00,\n",
      "        1.2896e-16, 3.0641e-13, 1.9060e-10, 3.7730e-27], device='cuda:0')\n"
     ]
    }
   ],
   "source": [
    "epochs = 10\n",
    "for epoch in range(1, epochs + 1):\n",
    "    print(f\"Epoch: {epoch}\")\n",
    "    W, b = train_perceptron(X, W, b, y_true, mu)\n",
    "    #print(f\"Updated weights: {W}\")\n",
    "    #print(f\"Updated biases: {b}\")"
   ]
  }
 ],
 "metadata": {
  "kernelspec": {
   "display_name": "Python 3 (ipykernel)",
   "language": "python",
   "name": "python3"
  },
  "language_info": {
   "codemirror_mode": {
    "name": "ipython",
    "version": 3
   },
   "file_extension": ".py",
   "mimetype": "text/x-python",
   "name": "python",
   "nbconvert_exporter": "python",
   "pygments_lexer": "ipython3",
   "version": "3.9.15"
  }
 },
 "nbformat": 4,
 "nbformat_minor": 5
}
