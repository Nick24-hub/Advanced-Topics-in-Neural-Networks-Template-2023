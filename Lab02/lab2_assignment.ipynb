{
 "cells": [
  {
   "cell_type": "code",
   "execution_count": 1,
   "id": "f5d10add",
   "metadata": {},
   "outputs": [],
   "source": [
    "import random\n",
    "import torch\n",
    "from torch import Tensor"
   ]
  },
  {
   "cell_type": "markdown",
   "id": "9e27352e",
   "metadata": {},
   "source": [
    "## train_perceptron function"
   ]
  },
  {
   "cell_type": "code",
   "execution_count": 2,
   "id": "a7bd8c61",
   "metadata": {},
   "outputs": [],
   "source": [
    "def sigmoid(z: Tensor):\n",
    "    return 1 / (1 + torch.exp(-z))\n",
    "\n",
    "def train_perceptron(X: Tensor, W: Tensor, b: Tensor, y_true: Tensor, mu: float):\n",
    "    delta = torch.zeros(W.shape).to('cuda')\n",
    "    beta = torch.zeros(b.shape).to('cuda')\n",
    "    batch_size = len(X)\n",
    "    for index in range(0, batch_size):\n",
    "        z = X[index] @ W + b\n",
    "        y = sigmoid(z)\n",
    "        print(f\"Prediction = {y}\")\n",
    "        error = y_true[index] - y\n",
    "        delta += X[index].unsqueeze(-1) @ error.unsqueeze(0)\n",
    "        beta += error\n",
    "    W += delta / batch_size * mu\n",
    "    b += beta / batch_size * mu\n",
    "    return W, b"
   ]
  },
  {
   "cell_type": "markdown",
   "id": "fde0518b",
   "metadata": {},
   "source": [
    "## Initialize tensors"
   ]
  },
  {
   "cell_type": "code",
   "execution_count": 3,
   "id": "20269c46",
   "metadata": {},
   "outputs": [
    {
     "name": "stdout",
     "output_type": "stream",
     "text": [
      "torch.Size([3, 784]) torch.Size([784, 10]) torch.Size([10]) torch.Size([3, 10])\n"
     ]
    }
   ],
   "source": [
    "m = 3\n",
    "X = torch.rand((m, 784)).to('cuda')\n",
    "W = torch.rand((784, 10)).to('cuda')\n",
    "b = torch.rand((10)).to('cuda')\n",
    "y_true = torch.zeros((m, 10)).to('cuda')\n",
    "for index in range(0,m):\n",
    "    y_true[index][random.randint(0, 9)] = 1\n",
    "mu = 0.9\n",
    "print(X.shape, W.shape, b.shape, y_true.shape)"
   ]
  },
  {
   "cell_type": "code",
   "execution_count": 4,
   "id": "4b995c96",
   "metadata": {},
   "outputs": [
    {
     "name": "stdout",
     "output_type": "stream",
     "text": [
      "y_true: tensor([[0., 0., 1., 0., 0., 0., 0., 0., 0., 0.],\n",
      "        [0., 0., 0., 0., 0., 0., 0., 0., 1., 0.],\n",
      "        [0., 0., 0., 0., 0., 1., 0., 0., 0., 0.]], device='cuda:0')\n"
     ]
    }
   ],
   "source": [
    "print(f\"y_true: {y_true}\")"
   ]
  },
  {
   "cell_type": "markdown",
   "id": "9b9f027e",
   "metadata": {},
   "source": [
    "## Start training"
   ]
  },
  {
   "cell_type": "code",
   "execution_count": 5,
   "id": "49d187f2",
   "metadata": {},
   "outputs": [
    {
     "name": "stdout",
     "output_type": "stream",
     "text": [
      "Epoch: 1\n",
      "Prediction = tensor([1., 1., 1., 1., 1., 1., 1., 1., 1., 1.], device='cuda:0')\n",
      "Prediction = tensor([1., 1., 1., 1., 1., 1., 1., 1., 1., 1.], device='cuda:0')\n",
      "Prediction = tensor([1., 1., 1., 1., 1., 1., 1., 1., 1., 1.], device='cuda:0')\n",
      "Epoch: 2\n",
      "Prediction = tensor([0.9965, 0.9991, 1.0000, 0.3172, 0.5889, 1.0000, 0.9998, 0.9953, 1.0000,\n",
      "        0.9214], device='cuda:0')\n",
      "Prediction = tensor([9.9401e-01, 9.9925e-01, 1.0000e+00, 5.3488e-04, 1.4010e-02, 1.0000e+00,\n",
      "        8.6455e-01, 9.8930e-01, 1.0000e+00, 5.7402e-02], device='cuda:0')\n",
      "Prediction = tensor([0.9968, 0.9545, 1.0000, 0.0187, 0.2797, 1.0000, 0.9987, 0.7003, 1.0000,\n",
      "        0.5937], device='cuda:0')\n",
      "Epoch: 3\n",
      "Prediction = tensor([0.0000e+00, 0.0000e+00, 9.1833e-17, 4.1070e-13, 6.3763e-30, 3.8512e-38,\n",
      "        0.0000e+00, 0.0000e+00, 8.9757e-35, 0.0000e+00], device='cuda:0')\n",
      "Prediction = tensor([0.0000e+00, 0.0000e+00, 1.1439e-33, 1.1776e-12, 2.0771e-25, 2.0115e-36,\n",
      "        0.0000e+00, 0.0000e+00, 1.8843e-15, 0.0000e+00], device='cuda:0')\n",
      "Prediction = tensor([0.0000e+00, 0.0000e+00, 5.6976e-36, 9.9468e-12, 1.6710e-27, 2.2643e-21,\n",
      "        0.0000e+00, 0.0000e+00, 1.7312e-35, 0.0000e+00], device='cuda:0')\n",
      "Epoch: 4\n",
      "Prediction = tensor([0.0000e+00, 0.0000e+00, 1.0000e+00, 4.1070e-13, 6.3763e-30, 4.8723e-11,\n",
      "        0.0000e+00, 0.0000e+00, 4.6553e-09, 0.0000e+00], device='cuda:0')\n",
      "Prediction = tensor([0.0000e+00, 0.0000e+00, 5.9331e-08, 1.1776e-12, 2.0771e-25, 1.3239e-10,\n",
      "        0.0000e+00, 0.0000e+00, 1.0000e+00, 0.0000e+00], device='cuda:0')\n",
      "Prediction = tensor([0.0000e+00, 0.0000e+00, 7.2083e-09, 9.9468e-12, 1.6710e-27, 1.0000e+00,\n",
      "        0.0000e+00, 0.0000e+00, 1.1394e-09, 0.0000e+00], device='cuda:0')\n",
      "Epoch: 5\n",
      "Prediction = tensor([0.0000e+00, 0.0000e+00, 1.0000e+00, 4.1070e-13, 6.3763e-30, 4.8723e-11,\n",
      "        0.0000e+00, 0.0000e+00, 4.6553e-09, 0.0000e+00], device='cuda:0')\n",
      "Prediction = tensor([0.0000e+00, 0.0000e+00, 5.9331e-08, 1.1776e-12, 2.0771e-25, 1.3239e-10,\n",
      "        0.0000e+00, 0.0000e+00, 1.0000e+00, 0.0000e+00], device='cuda:0')\n",
      "Prediction = tensor([0.0000e+00, 0.0000e+00, 7.2083e-09, 9.9468e-12, 1.6710e-27, 1.0000e+00,\n",
      "        0.0000e+00, 0.0000e+00, 1.1394e-09, 0.0000e+00], device='cuda:0')\n",
      "Epoch: 6\n",
      "Prediction = tensor([0.0000e+00, 0.0000e+00, 1.0000e+00, 4.1070e-13, 6.3763e-30, 4.8723e-11,\n",
      "        0.0000e+00, 0.0000e+00, 4.6553e-09, 0.0000e+00], device='cuda:0')\n",
      "Prediction = tensor([0.0000e+00, 0.0000e+00, 5.9331e-08, 1.1776e-12, 2.0771e-25, 1.3239e-10,\n",
      "        0.0000e+00, 0.0000e+00, 1.0000e+00, 0.0000e+00], device='cuda:0')\n",
      "Prediction = tensor([0.0000e+00, 0.0000e+00, 7.2083e-09, 9.9468e-12, 1.6710e-27, 1.0000e+00,\n",
      "        0.0000e+00, 0.0000e+00, 1.1394e-09, 0.0000e+00], device='cuda:0')\n",
      "Epoch: 7\n",
      "Prediction = tensor([0.0000e+00, 0.0000e+00, 1.0000e+00, 4.1070e-13, 6.3763e-30, 4.8723e-11,\n",
      "        0.0000e+00, 0.0000e+00, 4.6553e-09, 0.0000e+00], device='cuda:0')\n",
      "Prediction = tensor([0.0000e+00, 0.0000e+00, 5.9330e-08, 1.1776e-12, 2.0771e-25, 1.3239e-10,\n",
      "        0.0000e+00, 0.0000e+00, 1.0000e+00, 0.0000e+00], device='cuda:0')\n",
      "Prediction = tensor([0.0000e+00, 0.0000e+00, 7.2083e-09, 9.9468e-12, 1.6710e-27, 1.0000e+00,\n",
      "        0.0000e+00, 0.0000e+00, 1.1394e-09, 0.0000e+00], device='cuda:0')\n",
      "Epoch: 8\n",
      "Prediction = tensor([0.0000e+00, 0.0000e+00, 1.0000e+00, 4.1070e-13, 6.3763e-30, 4.8723e-11,\n",
      "        0.0000e+00, 0.0000e+00, 4.6553e-09, 0.0000e+00], device='cuda:0')\n",
      "Prediction = tensor([0.0000e+00, 0.0000e+00, 5.9330e-08, 1.1776e-12, 2.0771e-25, 1.3239e-10,\n",
      "        0.0000e+00, 0.0000e+00, 1.0000e+00, 0.0000e+00], device='cuda:0')\n",
      "Prediction = tensor([0.0000e+00, 0.0000e+00, 7.2082e-09, 9.9468e-12, 1.6710e-27, 1.0000e+00,\n",
      "        0.0000e+00, 0.0000e+00, 1.1394e-09, 0.0000e+00], device='cuda:0')\n",
      "Epoch: 9\n",
      "Prediction = tensor([0.0000e+00, 0.0000e+00, 1.0000e+00, 4.1070e-13, 6.3763e-30, 4.8723e-11,\n",
      "        0.0000e+00, 0.0000e+00, 4.6553e-09, 0.0000e+00], device='cuda:0')\n",
      "Prediction = tensor([0.0000e+00, 0.0000e+00, 5.9330e-08, 1.1776e-12, 2.0771e-25, 1.3239e-10,\n",
      "        0.0000e+00, 0.0000e+00, 1.0000e+00, 0.0000e+00], device='cuda:0')\n",
      "Prediction = tensor([0.0000e+00, 0.0000e+00, 7.2082e-09, 9.9468e-12, 1.6710e-27, 1.0000e+00,\n",
      "        0.0000e+00, 0.0000e+00, 1.1394e-09, 0.0000e+00], device='cuda:0')\n",
      "Epoch: 10\n",
      "Prediction = tensor([0.0000e+00, 0.0000e+00, 1.0000e+00, 4.1070e-13, 6.3763e-30, 4.8723e-11,\n",
      "        0.0000e+00, 0.0000e+00, 4.6553e-09, 0.0000e+00], device='cuda:0')\n",
      "Prediction = tensor([0.0000e+00, 0.0000e+00, 5.9330e-08, 1.1776e-12, 2.0771e-25, 1.3239e-10,\n",
      "        0.0000e+00, 0.0000e+00, 1.0000e+00, 0.0000e+00], device='cuda:0')\n",
      "Prediction = tensor([0.0000e+00, 0.0000e+00, 7.2082e-09, 9.9468e-12, 1.6710e-27, 1.0000e+00,\n",
      "        0.0000e+00, 0.0000e+00, 1.1394e-09, 0.0000e+00], device='cuda:0')\n"
     ]
    }
   ],
   "source": [
    "epochs = 10\n",
    "for epoch in range(1, epochs + 1):\n",
    "    print(f\"Epoch: {epoch}\")\n",
    "    W, b = train_perceptron(X, W, b, y_true, mu)\n",
    "    #print(f\"Updated weights: {W}\")\n",
    "    #print(f\"Updated biases: {b}\")"
   ]
  }
 ],
 "metadata": {
  "kernelspec": {
   "display_name": "Python 3 (ipykernel)",
   "language": "python",
   "name": "python3"
  },
  "language_info": {
   "codemirror_mode": {
    "name": "ipython",
    "version": 3
   },
   "file_extension": ".py",
   "mimetype": "text/x-python",
   "name": "python",
   "nbconvert_exporter": "python",
   "pygments_lexer": "ipython3",
   "version": "3.9.15"
  }
 },
 "nbformat": 4,
 "nbformat_minor": 5
}
