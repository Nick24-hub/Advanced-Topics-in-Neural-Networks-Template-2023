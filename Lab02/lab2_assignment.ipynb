{
 "cells": [
  {
   "cell_type": "code",
   "execution_count": 1,
   "id": "84b0a22d",
   "metadata": {},
   "outputs": [],
   "source": [
    "import random\n",
    "import torch\n",
    "from torch import Tensor\n",
    "from torchvision import datasets, transforms\n",
    "from torch.utils.data import DataLoader"
   ]
  },
  {
   "cell_type": "markdown",
   "id": "a16d9379",
   "metadata": {},
   "source": [
    "## train_perceptron function"
   ]
  },
  {
   "cell_type": "code",
   "execution_count": 2,
   "id": "f1cdf72f",
   "metadata": {},
   "outputs": [],
   "source": [
    "def sigmoid(z):\n",
    "    return 1 / (1 + torch.exp(-z))\n",
    "\n",
    "def train_perceptron(X: Tensor, W: Tensor, b: Tensor, y_true: Tensor, mu: float):\n",
    "    # Return the updated W and b\n",
    "    # Your implementation here\n",
    "    delta = torch.zeros(W.shape).to('cuda')\n",
    "    beta = torch.zeros(b.shape).to('cuda')\n",
    "    batch_size = len(X)\n",
    "    for index in range(0, batch_size):\n",
    "        z = X[index] @ W + b\n",
    "        y = sigmoid(z)\n",
    "        print(f\"y = {y}\")\n",
    "        error = y_true[index] - y\n",
    "        delta += X[index].unsqueeze(-1) @ error.unsqueeze(0)\n",
    "        beta += error\n",
    "    W += delta * mu\n",
    "    b += beta * mu\n",
    "    return W, b"
   ]
  },
  {
   "cell_type": "markdown",
   "id": "181fa917",
   "metadata": {},
   "source": [
    "## Initialize tensors"
   ]
  },
  {
   "cell_type": "code",
   "execution_count": 3,
   "id": "dde1fbc6",
   "metadata": {},
   "outputs": [
    {
     "name": "stdout",
     "output_type": "stream",
     "text": [
      "tensor([[0., 0., 0., 1., 0., 0., 0., 0., 0., 0.]], device='cuda:0')\n",
      "torch.Size([1, 784]) torch.Size([784, 10]) torch.Size([10]) torch.Size([1, 10])\n"
     ]
    }
   ],
   "source": [
    "m = 1\n",
    "X = torch.rand((m, 784)).to('cuda')\n",
    "W = torch.rand((784, 10)).to('cuda')\n",
    "b = torch.rand((10)).to('cuda')\n",
    "y_true = torch.zeros((m, 10)).to('cuda')\n",
    "for index in range(0,m):\n",
    "    y_true[index][random.randint(0, 9)] = 1\n",
    "print(y_true)\n",
    "mu = 0.3\n",
    "print(X.shape, W.shape, b.shape, y_true.shape)"
   ]
  },
  {
   "cell_type": "markdown",
   "id": "6ab97413",
   "metadata": {},
   "source": [
    "## Start training"
   ]
  },
  {
   "cell_type": "code",
   "execution_count": 4,
   "id": "6d5c5b9d",
   "metadata": {},
   "outputs": [
    {
     "name": "stdout",
     "output_type": "stream",
     "text": [
      "Epoch: 1\n",
      "y = tensor([1., 1., 1., 1., 1., 1., 1., 1., 1., 1.], device='cuda:0')\n",
      "Epoch: 2\n",
      "y = tensor([1., 1., 1., 1., 1., 1., 1., 1., 1., 1.], device='cuda:0')\n",
      "Epoch: 3\n",
      "y = tensor([1., 1., 1., 1., 1., 1., 1., 1., 1., 1.], device='cuda:0')\n",
      "Epoch: 4\n",
      "y = tensor([2.7661236080e-18, 5.8154067011e-20, 5.6741858340e-16, 1.0000000000e+00,\n",
      "        1.0236385930e-18, 2.6763780271e-19, 5.0162700599e-14, 3.6464286288e-20,\n",
      "        5.3295529035e-15, 4.4676464324e-20], device='cuda:0')\n",
      "Epoch: 5\n",
      "y = tensor([2.7661236080e-18, 5.8154067011e-20, 5.6741858340e-16, 1.0000000000e+00,\n",
      "        1.0236385930e-18, 2.6763780271e-19, 5.0162700599e-14, 3.6464286288e-20,\n",
      "        5.3295529035e-15, 4.4676464324e-20], device='cuda:0')\n",
      "Epoch: 6\n",
      "y = tensor([2.7661236080e-18, 5.8154067011e-20, 5.6741858340e-16, 1.0000000000e+00,\n",
      "        1.0236385930e-18, 2.6763780271e-19, 5.0162700599e-14, 3.6464286288e-20,\n",
      "        5.3295529035e-15, 4.4676464324e-20], device='cuda:0')\n",
      "Epoch: 7\n",
      "y = tensor([2.7661236080e-18, 5.8154067011e-20, 5.6741858340e-16, 1.0000000000e+00,\n",
      "        1.0236385930e-18, 2.6763780271e-19, 5.0162700599e-14, 3.6464286288e-20,\n",
      "        5.3295529035e-15, 4.4676464324e-20], device='cuda:0')\n",
      "Epoch: 8\n",
      "y = tensor([2.7661236080e-18, 5.8154067011e-20, 5.6741858340e-16, 1.0000000000e+00,\n",
      "        1.0236385930e-18, 2.6763780271e-19, 5.0162700599e-14, 3.6464286288e-20,\n",
      "        5.3295529035e-15, 4.4676464324e-20], device='cuda:0')\n",
      "Epoch: 9\n",
      "y = tensor([2.7661236080e-18, 5.8154067011e-20, 5.6741858340e-16, 1.0000000000e+00,\n",
      "        1.0236385930e-18, 2.6763780271e-19, 5.0162700599e-14, 3.6464286288e-20,\n",
      "        5.3295529035e-15, 4.4676464324e-20], device='cuda:0')\n",
      "Epoch: 10\n",
      "y = tensor([2.7661236080e-18, 5.8154067011e-20, 5.6741858340e-16, 1.0000000000e+00,\n",
      "        1.0236385930e-18, 2.6763780271e-19, 5.0162700599e-14, 3.6464286288e-20,\n",
      "        5.3295529035e-15, 4.4676464324e-20], device='cuda:0')\n"
     ]
    }
   ],
   "source": [
    "epochs = 10\n",
    "for epoch in range(1, epochs + 1):\n",
    "    print(f\"Epoch: {epoch}\")\n",
    "    train_perceptron(X,W,b,y_true,mu)"
   ]
  },
  {
   "cell_type": "code",
   "execution_count": null,
   "id": "0879b326",
   "metadata": {},
   "outputs": [],
   "source": [
    "mnist_trainset = datasets.MNIST(root='./dataset', train=True, download=True,  transform = transforms.ToTensor(),)\n",
    "len(mnist_trainset)"
   ]
  },
  {
   "cell_type": "code",
   "execution_count": null,
   "id": "365a6609",
   "metadata": {},
   "outputs": [],
   "source": [
    "train_loader = DataLoader(mnist_trainset, batch_size = 32)"
   ]
  }
 ],
 "metadata": {
  "kernelspec": {
   "display_name": "Python 3 (ipykernel)",
   "language": "python",
   "name": "python3"
  },
  "language_info": {
   "codemirror_mode": {
    "name": "ipython",
    "version": 3
   },
   "file_extension": ".py",
   "mimetype": "text/x-python",
   "name": "python",
   "nbconvert_exporter": "python",
   "pygments_lexer": "ipython3",
   "version": "3.9.15"
  }
 },
 "nbformat": 4,
 "nbformat_minor": 5
}
