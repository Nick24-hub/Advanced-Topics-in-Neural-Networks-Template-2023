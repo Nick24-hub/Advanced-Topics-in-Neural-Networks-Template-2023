{
 "cells": [
  {
   "cell_type": "markdown",
   "id": "c2a98f30",
   "metadata": {},
   "source": [
    "<a target=\"_blank\" href=\"https://colab.research.google.com/github/Nick24-hub/Advanced-Topics-in-Neural-Networks-Template-2023/blob/main/Lab07/Solution/assignment6.ipynb\">\n",
    "  <img src=\"https://colab.research.google.com/assets/colab-badge.svg\" alt=\"Open In Colab\"/>\n",
    "</a>"
   ]
  },
  {
   "cell_type": "code",
   "execution_count": 1,
   "id": "7ab34005",
   "metadata": {},
   "outputs": [],
   "source": [
    "import torch"
   ]
  },
  {
   "cell_type": "code",
   "execution_count": 2,
   "id": "3cb29d5c",
   "metadata": {},
   "outputs": [],
   "source": [
    "def get_default_device():\n",
    "    if torch.cuda.is_available():\n",
    "        return torch.device('cuda')\n",
    "        # For multi-gpu workstations, PyTorch will use the first available GPU (cuda:0), unless specified otherwise\n",
    "        # (cuda:1).\n",
    "    if torch.backends.mps.is_available():\n",
    "        return torch.device('mos')\n",
    "    return torch.device('cpu')"
   ]
  },
  {
   "cell_type": "code",
   "execution_count": 3,
   "id": "5312bcfe",
   "metadata": {},
   "outputs": [],
   "source": [
    "class Handmade_conv2d_implementation(torch.nn.Module):\n",
    "    def __init__(self, weights):\n",
    "        super(Handmade_conv2d_implementation, self).__init__()\n",
    "        self.weights = weights\n",
    "\n",
    "    def forward(self, x):\n",
    "        # Extracting dimensions\n",
    "        batch_size, in_channels, in_height, in_width = x.shape\n",
    "        out_channels, _, kernel_height, kernel_width = self.weights.shape\n",
    "\n",
    "        # Output dimensions\n",
    "        out_height = in_height - kernel_height + 1\n",
    "        out_width = in_width - kernel_width + 1\n",
    "\n",
    "        # Reshape input and weights for matrix multiplication\n",
    "        x_reshaped = x.unfold(2, kernel_height, 1).unfold(3, kernel_width, 1)\n",
    "        x_reshaped = x_reshaped.permute(0, 2, 3, 1, 4, 5).contiguous().view(batch_size, out_height, out_width, -1)\n",
    "\n",
    "        w_reshaped = self.weights.view(out_channels, -1).t()\n",
    "\n",
    "        # Perform matrix multiplication and reshape back to the output shape\n",
    "        out = torch.matmul(x_reshaped, w_reshaped).view(batch_size, out_height, out_width, out_channels)\n",
    "        out = out.permute(0, 3, 1, 2).contiguous()\n",
    "\n",
    "        return out"
   ]
  },
  {
   "cell_type": "code",
   "execution_count": 4,
   "id": "27250d24",
   "metadata": {},
   "outputs": [
    {
     "name": "stdout",
     "output_type": "stream",
     "text": [
      "cuda\n",
      "tensor(2.8610e-06, device='cuda:0')\n"
     ]
    }
   ],
   "source": [
    "device = get_default_device()\n",
    "print(device)\n",
    "\n",
    "inp = torch.randn(1, 3, 10, 12).to(device) # Input image\n",
    "\n",
    "# kernel of size 4x5 , with 3 input channels and 2 output channels\n",
    "w = torch.randn(2, 3, 4, 5).to(device) # Conv weights\n",
    "\n",
    "# Your implementation. Can be made differently, like only passing the kernel size for example\n",
    "custom_conv2d_layer = Handmade_conv2d_implementation(weights = w)\n",
    "      \n",
    "out = custom_conv2d_layer(inp)\n",
    "      \n",
    "print ((torch.nn.functional.conv2d(inp,w) - out).abs().max())"
   ]
  }
 ],
 "metadata": {
  "kernelspec": {
   "display_name": "Python 3 (ipykernel)",
   "language": "python",
   "name": "python3"
  },
  "language_info": {
   "codemirror_mode": {
    "name": "ipython",
    "version": 3
   },
   "file_extension": ".py",
   "mimetype": "text/x-python",
   "name": "python",
   "nbconvert_exporter": "python",
   "pygments_lexer": "ipython3",
   "version": "3.9.15"
  }
 },
 "nbformat": 4,
 "nbformat_minor": 5
}
